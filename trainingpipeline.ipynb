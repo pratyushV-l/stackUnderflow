{
 "cells": [
  {
   "cell_type": "markdown",
   "id": "26b730a4",
   "metadata": {
    "papermill": {
     "duration": 0.005364,
     "end_time": "2024-09-13T04:45:13.783464",
     "exception": false,
     "start_time": "2024-09-13T04:45:13.778100",
     "status": "completed"
    },
    "tags": []
   },
   "source": []
  },
  {
   "cell_type": "code",
   "execution_count": 2,
   "id": "3c8b0cd0",
   "metadata": {
    "execution": {
     "iopub.execute_input": "2024-09-13T04:45:13.821718Z",
     "iopub.status.busy": "2024-09-13T04:45:13.821331Z",
     "iopub.status.idle": "2024-09-13T04:45:17.041852Z",
     "shell.execute_reply": "2024-09-13T04:45:17.041068Z"
    },
    "papermill": {
     "duration": 3.228526,
     "end_time": "2024-09-13T04:45:17.044115",
     "exception": false,
     "start_time": "2024-09-13T04:45:13.815589",
     "status": "completed"
    },
    "tags": []
   },
   "outputs": [],
   "source": [
    "# Importing all the Required Libraries\n",
    "import torch\n",
    "import torch.nn as nn\n",
    "from torch.nn import functional as F\n",
    "torch.cuda.empty_cache()"
   ]
  },
  {
   "cell_type": "code",
   "execution_count": 3,
   "id": "7abfd3a0",
   "metadata": {
    "execution": {
     "iopub.execute_input": "2024-09-13T04:45:17.055399Z",
     "iopub.status.busy": "2024-09-13T04:45:17.055000Z",
     "iopub.status.idle": "2024-09-13T04:45:17.060092Z",
     "shell.execute_reply": "2024-09-13T04:45:17.059264Z"
    },
    "papermill": {
     "duration": 0.012831,
     "end_time": "2024-09-13T04:45:17.061963",
     "exception": false,
     "start_time": "2024-09-13T04:45:17.049132",
     "status": "completed"
    },
    "tags": []
   },
   "outputs": [],
   "source": [
    "# Parameters\n",
    "batch_size = 64\n",
    "block_size = 256\n",
    "max_iters = 25000\n",
    "eval_interval = 300\n",
    "learning_rate = 3e-3\n",
    "device = 'cuda'\n",
    "eval_iters = 200\n",
    "n_embd = 384\n",
    "n_head = 12\n",
    "n_layer = 12\n",
    "dropout = 0.2"
   ]
  },
  {
   "cell_type": "code",
   "execution_count": 4,
   "id": "b16032ee",
   "metadata": {
    "execution": {
     "iopub.execute_input": "2024-09-13T04:45:17.072473Z",
     "iopub.status.busy": "2024-09-13T04:45:17.072179Z",
     "iopub.status.idle": "2024-09-13T04:45:18.830264Z",
     "shell.execute_reply": "2024-09-13T04:45:18.829308Z"
    },
    "papermill": {
     "duration": 1.765971,
     "end_time": "2024-09-13T04:45:18.832628",
     "exception": false,
     "start_time": "2024-09-13T04:45:17.066657",
     "status": "completed"
    },
    "tags": []
   },
   "outputs": [
    {
     "name": "stderr",
     "output_type": "stream",
     "text": [
      "'wget' is not recognized as an internal or external command,\n",
      "operable program or batch file.\n"
     ]
    }
   ],
   "source": [
    "# Using the Database\n",
    "torch.manual_seed(1337)\n",
    "\n",
    "!wget https://raw.githubusercontent.com/pratyushV-l/stackGPT/main/output.txt\n",
    "with open('output.txt', 'r', encoding='utf-8') as f:\n",
    "    text = f.read()"
   ]
  },
  {
   "cell_type": "code",
   "execution_count": 4,
   "id": "b4a29028",
   "metadata": {
    "execution": {
     "iopub.execute_input": "2024-09-13T04:45:18.844559Z",
     "iopub.status.busy": "2024-09-13T04:45:18.844224Z",
     "iopub.status.idle": "2024-09-13T04:45:19.027212Z",
     "shell.execute_reply": "2024-09-13T04:45:19.026296Z"
    },
    "papermill": {
     "duration": 0.191201,
     "end_time": "2024-09-13T04:45:19.029187",
     "exception": false,
     "start_time": "2024-09-13T04:45:18.837986",
     "status": "completed"
    },
    "tags": []
   },
   "outputs": [],
   "source": [
    "# Finding and Mapping all the Unique Chars(Main credit to Andrej for this)\n",
    "chars = sorted(list(set(text)))\n",
    "vocab_size = len(chars)\n",
    "stoi = { ch:i for i,ch in enumerate(chars) }\n",
    "itos = { i:ch for i,ch in enumerate(chars) }\n",
    "encode = lambda s: [stoi[c] for c in s] \n",
    "decode = lambda l: ''.join([itos[i] for i in l])"
   ]
  },
  {
   "cell_type": "code",
   "execution_count": 5,
   "id": "f0ba8638",
   "metadata": {
    "execution": {
     "iopub.execute_input": "2024-09-13T04:45:19.040555Z",
     "iopub.status.busy": "2024-09-13T04:45:19.040267Z",
     "iopub.status.idle": "2024-09-13T04:45:21.869773Z",
     "shell.execute_reply": "2024-09-13T04:45:21.868770Z"
    },
    "papermill": {
     "duration": 2.838381,
     "end_time": "2024-09-13T04:45:21.872676",
     "exception": false,
     "start_time": "2024-09-13T04:45:19.034295",
     "status": "completed"
    },
    "tags": []
   },
   "outputs": [],
   "source": [
    "# Splitting to avoid the overfilling thing(although my LLM will never be overfilled, due to the training complexity)\n",
    "data = torch.tensor(encode(text), dtype=torch.long)\n",
    "n = int(0.9*len(data))\n",
    "train_data = data[:n]\n",
    "val_data = data[n:]"
   ]
  },
  {
   "cell_type": "code",
   "execution_count": 6,
   "id": "75552094",
   "metadata": {
    "execution": {
     "iopub.execute_input": "2024-09-13T04:45:21.884892Z",
     "iopub.status.busy": "2024-09-13T04:45:21.884525Z",
     "iopub.status.idle": "2024-09-13T04:45:21.890808Z",
     "shell.execute_reply": "2024-09-13T04:45:21.889811Z"
    },
    "papermill": {
     "duration": 0.014261,
     "end_time": "2024-09-13T04:45:21.892641",
     "exception": false,
     "start_time": "2024-09-13T04:45:21.878380",
     "status": "completed"
    },
    "tags": []
   },
   "outputs": [],
   "source": [
    "# Function for batching and mapping out x,y points\n",
    "def get_batch(split):\n",
    "    data = train_data if split == 'train' else val_data\n",
    "    ix = torch.randint(len(data) - block_size, (batch_size,))\n",
    "    x = torch.stack([data[i:i+block_size] for i in ix])\n",
    "    y = torch.stack([data[i+1:i+block_size+1] for i in ix])\n",
    "    x, y = x.to(device), y.to(device)\n",
    "    return x, y"
   ]
  },
  {
   "cell_type": "code",
   "execution_count": 7,
   "id": "0fa8091e",
   "metadata": {
    "execution": {
     "iopub.execute_input": "2024-09-13T04:45:21.904656Z",
     "iopub.status.busy": "2024-09-13T04:45:21.903762Z",
     "iopub.status.idle": "2024-09-13T04:45:21.910105Z",
     "shell.execute_reply": "2024-09-13T04:45:21.909316Z"
    },
    "papermill": {
     "duration": 0.014273,
     "end_time": "2024-09-13T04:45:21.911993",
     "exception": false,
     "start_time": "2024-09-13T04:45:21.897720",
     "status": "completed"
    },
    "tags": []
   },
   "outputs": [],
   "source": [
    "# Loss Calculation\n",
    "@torch.no_grad()\n",
    "def estimate_loss():\n",
    "    out = {}\n",
    "    model.eval()\n",
    "    for split in ['train', 'val']:\n",
    "        losses = torch.zeros(eval_iters)\n",
    "        for k in range(eval_iters):\n",
    "            X, Y = get_batch(split)\n",
    "            logits, loss = model(X, Y)\n",
    "            losses[k] = loss.item()\n",
    "        out[split] = losses.mean()\n",
    "    model.train()\n",
    "    return out"
   ]
  },
  {
   "cell_type": "code",
   "execution_count": 8,
   "id": "3151a83a",
   "metadata": {
    "execution": {
     "iopub.execute_input": "2024-09-13T04:45:21.923374Z",
     "iopub.status.busy": "2024-09-13T04:45:21.922690Z",
     "iopub.status.idle": "2024-09-13T04:45:21.933144Z",
     "shell.execute_reply": "2024-09-13T04:45:21.932297Z"
    },
    "papermill": {
     "duration": 0.018122,
     "end_time": "2024-09-13T04:45:21.935092",
     "exception": false,
     "start_time": "2024-09-13T04:45:21.916970",
     "status": "completed"
    },
    "tags": []
   },
   "outputs": [],
   "source": [
    "# Part where I start to get confused, but this is the main head of attention, big, big thanks to Andrej for making this understandable\n",
    "# Im gonna try my best to explain this\n",
    "class Head(nn.Module):\n",
    "    # Uses some linear algebra to refer to self\n",
    "    def __init__(self, head_size):\n",
    "        super().__init__()\n",
    "        self.key = nn.Linear(n_embd, head_size, bias=False)\n",
    "        self.query = nn.Linear(n_embd, head_size, bias=False)\n",
    "        self.value = nn.Linear(n_embd, head_size, bias=False)\n",
    "        self.register_buffer('tril', torch.tril(torch.ones(block_size, block_size)))\n",
    "\n",
    "        self.dropout = nn.Dropout(dropout)\n",
    "    # Uses BTC for self querying\n",
    "    def forward(self, x):\n",
    "        B,T,C = x.shape\n",
    "        k = self.key(x)   \n",
    "        q = self.query(x) \n",
    "        wei = q @ k.transpose(-2,-1) * C**-0.5\n",
    "        wei = wei.masked_fill(self.tril[:T, :T] == 0, float('-inf'))\n",
    "        wei = F.softmax(wei, dim=-1)\n",
    "        wei = self.dropout(wei)\n",
    "        v = self.value(x) \n",
    "        out = wei @ v\n",
    "        return out"
   ]
  },
  {
   "cell_type": "code",
   "execution_count": 9,
   "id": "d6a41a43",
   "metadata": {
    "execution": {
     "iopub.execute_input": "2024-09-13T04:45:21.946419Z",
     "iopub.status.busy": "2024-09-13T04:45:21.945916Z",
     "iopub.status.idle": "2024-09-13T04:45:21.952082Z",
     "shell.execute_reply": "2024-09-13T04:45:21.951260Z"
    },
    "papermill": {
     "duration": 0.013864,
     "end_time": "2024-09-13T04:45:21.953936",
     "exception": false,
     "start_time": "2024-09-13T04:45:21.940072",
     "status": "completed"
    },
    "tags": []
   },
   "outputs": [],
   "source": [
    "# Allows for Multiple Heads\n",
    "class MultiHeadAttention(nn.Module):\n",
    "    def __init__(self, num_heads, head_size):\n",
    "        super().__init__()\n",
    "        self.heads = nn.ModuleList([Head(head_size) for _ in range(num_heads)])\n",
    "        self.proj = nn.Linear(n_embd, n_embd)\n",
    "        self.dropout = nn.Dropout(dropout)\n",
    "\n",
    "    def forward(self, x):\n",
    "        out = torch.cat([h(x) for h in self.heads], dim=-1)\n",
    "        out = self.dropout(self.proj(out))\n",
    "        return out"
   ]
  },
  {
   "cell_type": "code",
   "execution_count": 10,
   "id": "e5b141ca",
   "metadata": {
    "execution": {
     "iopub.execute_input": "2024-09-13T04:45:21.965255Z",
     "iopub.status.busy": "2024-09-13T04:45:21.964681Z",
     "iopub.status.idle": "2024-09-13T04:45:21.969987Z",
     "shell.execute_reply": "2024-09-13T04:45:21.969254Z"
    },
    "papermill": {
     "duration": 0.012933,
     "end_time": "2024-09-13T04:45:21.971882",
     "exception": false,
     "start_time": "2024-09-13T04:45:21.958949",
     "status": "completed"
    },
    "tags": []
   },
   "outputs": [],
   "source": [
    "# Making a Linear Layer, along with a curve\n",
    "class FeedFoward(nn.Module):\n",
    "    def __init__(self, n_embd):\n",
    "        super().__init__()\n",
    "        self.net = nn.Sequential(\n",
    "            nn.Linear(n_embd, 4 * n_embd),\n",
    "            nn.ReLU(),\n",
    "            nn.Linear(4 * n_embd, n_embd),\n",
    "            nn.Dropout(dropout),\n",
    "        )\n",
    "\n",
    "    def forward(self, x):\n",
    "        return self.net(x)"
   ]
  },
  {
   "cell_type": "code",
   "execution_count": 11,
   "id": "bf77e51c",
   "metadata": {
    "execution": {
     "iopub.execute_input": "2024-09-13T04:45:21.983104Z",
     "iopub.status.busy": "2024-09-13T04:45:21.982785Z",
     "iopub.status.idle": "2024-09-13T04:45:21.988733Z",
     "shell.execute_reply": "2024-09-13T04:45:21.987886Z"
    },
    "papermill": {
     "duration": 0.01349,
     "end_time": "2024-09-13T04:45:21.990609",
     "exception": false,
     "start_time": "2024-09-13T04:45:21.977119",
     "status": "completed"
    },
    "tags": []
   },
   "outputs": [],
   "source": [
    "# Communication and Connections\n",
    "class Block(nn.Module):\n",
    "    def __init__(self, n_embd, n_head):\n",
    "        super().__init__()\n",
    "        head_size = n_embd // n_head\n",
    "        self.sa = MultiHeadAttention(n_head, head_size)\n",
    "        self.ffwd = FeedFoward(n_embd)\n",
    "        self.ln1 = nn.LayerNorm(n_embd)\n",
    "        self.ln2 = nn.LayerNorm(n_embd)\n",
    "\n",
    "    def forward(self, x):\n",
    "        x = x + self.sa(self.ln1(x))\n",
    "        x = x + self.ffwd(self.ln2(x))\n",
    "        return x"
   ]
  },
  {
   "cell_type": "code",
   "execution_count": 12,
   "id": "a0bb1601",
   "metadata": {
    "execution": {
     "iopub.execute_input": "2024-09-13T04:45:22.001653Z",
     "iopub.status.busy": "2024-09-13T04:45:22.001366Z",
     "iopub.status.idle": "2024-09-13T04:46:57.199395Z",
     "shell.execute_reply": "2024-09-13T04:46:57.197999Z"
    },
    "papermill": {
     "duration": 95.211319,
     "end_time": "2024-09-13T04:46:57.206929",
     "exception": false,
     "start_time": "2024-09-13T04:45:21.995610",
     "status": "completed"
    },
    "tags": []
   },
   "outputs": [
    {
     "name": "stdout",
     "output_type": "stream",
     "text": [
      "i ran\n",
      "step 0: train loss 4.2224, val loss 4.2222\n",
      "step 99: train loss 2.8845, val loss 2.8946\n"
     ]
    }
   ],
   "source": [
    "print(\"i ran\")\n",
    "# The Final Bigram Model, almost all credit to Andrej and the Paper for this(all I did was combine the parts that worked for me)\n",
    "class BigramLanguageModel(nn.Module):\n",
    "\n",
    "    def __init__(self):\n",
    "        super().__init__()\n",
    "        self.token_embedding_table = nn.Embedding(vocab_size, n_embd)\n",
    "        self.position_embedding_table = nn.Embedding(block_size, n_embd)\n",
    "        self.blocks = nn.Sequential(*[Block(n_embd, n_head=n_head) for _ in range(n_layer)])\n",
    "        self.ln_f = nn.LayerNorm(n_embd)\n",
    "        self.lm_head = nn.Linear(n_embd, vocab_size)\n",
    "        \n",
    "    # Forms Logits, using B,T,C\n",
    "    def forward(self, idx, targets=None):\n",
    "        B, T = idx.shape\n",
    "        tok_emb = self.token_embedding_table(idx)\n",
    "        pos_emb = self.position_embedding_table(torch.arange(T, device=device))\n",
    "        x = tok_emb + pos_emb\n",
    "        x = self.blocks(x)\n",
    "        x = self.ln_f(x)\n",
    "        logits = self.lm_head(x)\n",
    "\n",
    "        if targets is None:\n",
    "            loss = None\n",
    "        else:\n",
    "            B, T, C = logits.shape\n",
    "            logits = logits.view(B*T, C)\n",
    "            targets = targets.view(B*T)\n",
    "            loss = F.cross_entropy(logits, targets)\n",
    "\n",
    "        return logits, loss\n",
    "\n",
    "    # Uses the shape of the logits to control temp(i think)?\n",
    "    def generate(self, idx, max_new_tokens):\n",
    "        for _ in range(max_new_tokens):\n",
    "            idx_cond = idx[:, -block_size:]\n",
    "            logits, loss = self(idx_cond)\n",
    "            logits = logits[:, -1, :]\n",
    "            probs = F.softmax(logits, dim=-1)\n",
    "            idx_next = torch.multinomial(probs, num_samples=1)\n",
    "            idx = torch.cat((idx, idx_next), dim=1)\n",
    "        return idx\n",
    "\n",
    "model = BigramLanguageModel()\n",
    "m = model.to(device)\n",
    "\n",
    "optimizer = torch.optim.AdamW(model.parameters(), lr=learning_rate)\n",
    "\n",
    "for iter in range(max_iters):\n",
    "\n",
    "    if iter % eval_interval == 0 or iter == max_iters - 1:\n",
    "        losses = estimate_loss()\n",
    "        print(f\"step {iter}: train loss {losses['train']:.4f}, val loss {losses['val']:.4f}\")\n",
    "\n",
    "    xb, yb = get_batch('train')\n",
    "\n",
    "    logits, loss = model(xb, yb)\n",
    "    optimizer.zero_grad(set_to_none=True)\n",
    "    loss.backward()\n",
    "    optimizer.step()"
   ]
  },
  {
   "cell_type": "code",
   "execution_count": 13,
   "id": "a989dc26",
   "metadata": {
    "execution": {
     "iopub.execute_input": "2024-09-13T04:46:57.219050Z",
     "iopub.status.busy": "2024-09-13T04:46:57.218591Z",
     "iopub.status.idle": "2024-09-13T04:46:57.617753Z",
     "shell.execute_reply": "2024-09-13T04:46:57.616734Z"
    },
    "papermill": {
     "duration": 0.407962,
     "end_time": "2024-09-13T04:46:57.620220",
     "exception": false,
     "start_time": "2024-09-13T04:46:57.212258",
     "status": "completed"
    },
    "tags": []
   },
   "outputs": [],
   "source": [
    "torch.save({\"modelState\": model.state_dict(), \"optimizerState\": optimizer.state_dict()}, \"final.pth\")"
   ]
  }
 ],
 "metadata": {
  "kaggle": {
   "accelerator": "gpu",
   "dataSources": [],
   "dockerImageVersionId": 30762,
   "isGpuEnabled": true,
   "isInternetEnabled": true,
   "language": "python",
   "sourceType": "notebook"
  },
  "kernelspec": {
   "display_name": "Python 3",
   "language": "python",
   "name": "python3"
  },
  "language_info": {
   "codemirror_mode": {
    "name": "ipython",
    "version": 3
   },
   "file_extension": ".py",
   "mimetype": "text/x-python",
   "name": "python",
   "nbconvert_exporter": "python",
   "pygments_lexer": "ipython3",
   "version": "3.12.5"
  },
  "papermill": {
   "default_parameters": {},
   "duration": 107.956284,
   "end_time": "2024-09-13T04:46:58.946895",
   "environment_variables": {},
   "exception": null,
   "input_path": "__notebook__.ipynb",
   "output_path": "__notebook__.ipynb",
   "parameters": {},
   "start_time": "2024-09-13T04:45:10.990611",
   "version": "2.6.0"
  }
 },
 "nbformat": 4,
 "nbformat_minor": 5
}
